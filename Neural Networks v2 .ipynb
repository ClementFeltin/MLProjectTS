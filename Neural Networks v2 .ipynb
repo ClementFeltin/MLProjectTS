{
 "cells": [
  {
   "cell_type": "code",
   "execution_count": 131,
   "metadata": {
    "collapsed": true
   },
   "outputs": [],
   "source": [
    "import pdb\n",
    "import matplotlib.pyplot as plt\n",
    "%matplotlib inline"
   ]
  },
  {
   "cell_type": "code",
   "execution_count": 132,
   "metadata": {
    "collapsed": true
   },
   "outputs": [],
   "source": [
    "'''Useful functions'''\n",
    "def sigmoid(z):\n",
    "    return 1/ (1+ np.exp(-z))  \n",
    "\n",
    "def sigmoidPrime(z):\n",
    "    return np.exp(-z) / ((1+np.exp(-z))**2)"
   ]
  },
  {
   "cell_type": "code",
   "execution_count": 133,
   "metadata": {
    "collapsed": false
   },
   "outputs": [],
   "source": [
    "import numpy as np\n",
    "from numpy.linalg import norm\n",
    "\n",
    "class Neural_Network(object):\n",
    "    def __init__(self, inputLayerSize, outputLayerSize, hiddenLayerSize, Lambda):\n",
    "        #Define Hyperparameters:\n",
    "        self.inputLayerSize = inputLayerSize \n",
    "        self.outputLayerSize = outputLayerSize\n",
    "        \n",
    "        # hidden layers \n",
    "        self.nbhiddenLayers = len(hiddenLayerSize)\n",
    "        self.hiddenLayerSize = hiddenLayerSize\n",
    "        \n",
    "        self.Lambda = Lambda\n",
    "        \n",
    "        # weights matrices\n",
    "        self.W = []\n",
    "        self.W.append(np.random.rand(self.inputLayerSize,self.hiddenLayerSize[0]))\n",
    "        for i in range(self.nbhiddenLayers - 1):\n",
    "            self.W.append(np.random.rand(self.hiddenLayerSize[i],self.hiddenLayerSize[i+1]))\n",
    "        self.W.append(np.random.rand(self.hiddenLayerSize[-1],self.outputLayerSize))\n",
    "\n",
    "    \n",
    "    def forward(self, X): \n",
    "        # propagate \n",
    "        self.z = []\n",
    "        self.a = []\n",
    "        X_copy = X\n",
    "        for i in range(self.nbhiddenLayers+1):\n",
    "            \n",
    "            z = np.dot(X_copy, self.W[i])\n",
    "            a = sigmoid(z)\n",
    "      \n",
    "            self.z.append(z)\n",
    "            self.a.append(a)\n",
    "            \n",
    "            X_copy = a\n",
    "            \n",
    "        return self.a[-1]\n",
    "        \n",
    "    def costFunction(self, X, y):\n",
    "        #Compute cost for given X,y, use weights already stored in class.\n",
    "        self.yHat = self.forward(X)\n",
    "        J = 0.5*sum((y-self.yHat)**2)/X.shape[0] \n",
    "        # normlisation : + (self.Lambda/2)*(norm(self.W1)+norm(self.W2)) \n",
    "        return J     \n",
    "        \n",
    "    def costFunctionPrime(self, X, y):\n",
    "        #Compute derivative with respect to W and W2 for a given X and y:\n",
    "        self.yHat = self.forward(X)\n",
    "        \n",
    "        self.delta = []\n",
    "        self.dJdW = []\n",
    "        self.delta.insert(0, np.multiply(-(y-self.yHat), sigmoidPrime(self.z[-1])))\n",
    "        #Add gradient of regularization term:\n",
    "        self.dJdW.insert(0,np.dot(self.a[-2].T, self.delta[0])/X.shape[0] )\n",
    "                    # + self.Lambda*self.W2 regu\n",
    "        \n",
    "        for i in range(self.nbhiddenLayers-1,0,-1):            \n",
    "            self.delta.insert(0, np.dot(self.delta[0], self.W[i+1].T)*sigmoidPrime(self.z[i]))\n",
    "            #Add gradient of regularization term:\n",
    "            self.dJdW.insert( 0, np.dot(self.a[i-1].T, self.delta[0])/X.shape[0] )\n",
    "                             #+ self.Lambda*self.W1 regu\n",
    "        \n",
    "        self.delta.insert(0, np.dot(self.delta[0], self.W[1].T)*sigmoidPrime(self.z[0]))\n",
    "        #Add gradient of regularization term:\n",
    "        self.dJdW.insert( 0, np.dot(X.T, self.delta[0])/X.shape[0] )\n",
    "        \n",
    "    def getParams(self):\n",
    "        #get W1 and W2 rolled into vector\n",
    "        params = np.concatenate([array.ravel() for array in NN.W])\n",
    "        return params\n",
    "    \n",
    "    def setParams(self, params):\n",
    "        #get W1 and W2 using single parameter vector\n",
    "        W_start = 0\n",
    "        W_end = self.hiddenLayerSize[0]*self.inputLayerSize\n",
    "        self.W = []\n",
    "        self.W.append(np.reshape(params[W_start: W_end], \\\n",
    "                            (self.inputLayerSize,self.hiddenLayerSize[0])))\n",
    "        for i in range(self.nbhiddenLayers -1):\n",
    "            W_start = W_end\n",
    "            W_end = W_end + self.hiddenLayerSize[i]* self.hiddenLayerSize[i+1]\n",
    "            self.W.append(np.reshape(params[W_start: W_end], \\\n",
    "                            (self.hiddenLayerSize[i],self.hiddenLayerSize[i+1])))\n",
    "                    \n",
    "        W_start = W_end\n",
    "        W_end = W_end + self.hiddenLayerSize[self.nbhiddenLayers -1]* self.outputLayerSize\n",
    "        self.W.append( np.reshape(params[W_start: W_end], \\\n",
    "                            (self.hiddenLayerSize[self.nbhiddenLayers -1],self.outputLayerSize)) )\n",
    "    \n",
    "    def computeGradients(self, X, y):\n",
    "        self.costFunctionPrime(X, y)\n",
    "        return np.concatenate([array.ravel() for array in self.dJdW])"
   ]
  },
  {
   "cell_type": "code",
   "execution_count": 134,
   "metadata": {
    "collapsed": true
   },
   "outputs": [],
   "source": [
    "X = np.random.rand(3,2)\n",
    "y = np.random.rand(3,1)"
   ]
  },
  {
   "cell_type": "code",
   "execution_count": 143,
   "metadata": {
    "collapsed": true
   },
   "outputs": [],
   "source": [
    "from scipy import optimize\n",
    "class Trainer(object):\n",
    "    def __init__(self, N):\n",
    "        self.N = N\n",
    "    \n",
    "    def callbackF(self, params):\n",
    "        self.N.setParams(params)\n",
    "        self.J.append(self.N.costFunction(self.X, self.y))  \n",
    "    \n",
    "    def costFunctionWrapper(self, params, X, y):\n",
    "        self.N.setParams(params)\n",
    "        cost = self.N.costFunction(X,y)\n",
    "        grad = self.N.computeGradients(X,y)\n",
    "        return cost, grad\n",
    "    \n",
    "    def train(self, X, y):\n",
    "        \n",
    "        self.X= X\n",
    "        self.y= y\n",
    "        \n",
    "        # make empty list to store costs\n",
    "        self.J = []\n",
    "        params0 = self.N.getParams()\n",
    "        options ={'maxiter' : 2000, 'disp':True}\n",
    "        \n",
    "        _res = optimize.minimize(self.costFunctionWrapper, params0, \\\n",
    "                                jac = True, method ='BFGS', args = (X,y) \\\n",
    "                                 , callback=self.callbackF\n",
    "                                )\n",
    "        self.N.setParams(_res.x)\n",
    "        self.optimizationResults = _res"
   ]
  },
  {
   "cell_type": "code",
   "execution_count": 144,
   "metadata": {
    "collapsed": false
   },
   "outputs": [],
   "source": [
    "# inputLayerSize = 2 \n",
    "# outputLayerSize = 1\n",
    "# hiddenLayerSize = 3\n",
    "Lambda = 0.0001 \n",
    "NN = Neural_Network(inputLayerSize = 2, outputLayerSize = 1, hiddenLayerSize = [3,2,1], Lambda = 0.0001  )\n",
    "T = Trainer(NN)"
   ]
  },
  {
   "cell_type": "code",
   "execution_count": 145,
   "metadata": {
    "collapsed": false
   },
   "outputs": [],
   "source": [
    "T.train(X, y)"
   ]
  },
  {
   "cell_type": "code",
   "execution_count": 146,
   "metadata": {
    "collapsed": false
   },
   "outputs": [
    {
     "data": {
      "text/plain": [
       "<matplotlib.text.Text at 0x8ed3da0>"
      ]
     },
     "execution_count": 146,
     "metadata": {},
     "output_type": "execute_result"
    },
    {
     "data": {
      "image/png": "[encoded data removed]",
      "text/plain": [
       "<matplotlib.figure.Figure at 0x8e390b8>"
      ]
     },
     "metadata": {},
     "output_type": "display_data"
    }
   ],
   "source": [
    "plt.figure(figsize=(20,5))\n",
    "plt.plot(T.J)\n",
    "plt.plot(T.J)\n",
    "plt.grid(1)\n",
    "plt.xlabel('Iterations')\n",
    "plt.ylabel('Cost')"
   ]
  }
 ],
 "metadata": {
  "anaconda-cloud": {},
  "kernelspec": {
   "display_name": "Python [conda env:py27]",
   "language": "python",
   "name": "conda-env-py27-py"
  },
  "language_info": {
   "codemirror_mode": {
    "name": "ipython",
    "version": 2
   },
   "file_extension": ".py",
   "mimetype": "text/x-python",
   "name": "python",
   "nbconvert_exporter": "python",
   "pygments_lexer": "ipython2",
   "version": "2.7.12"
  }
 },
 "nbformat": 4,
 "nbformat_minor": 1
}
