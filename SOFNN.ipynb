{
 "cells": [
  {
   "cell_type": "code",
   "execution_count": 4,
   "metadata": {
    "collapsed": false
   },
   "outputs": [],
   "source": [
    "import pdb\n",
    "%matplotlib inline\n",
    "import numpy as np\n",
    "import matplotlib.pyplot as plt\n",
    "import matplotlib.dates as mdates\n",
    "import pandas as pd\n",
    "from datetime import datetime\n",
    "import pdb\n"
   ]
  },
  {
   "cell_type": "code",
   "execution_count": 499,
   "metadata": {
    "collapsed": false
   },
   "outputs": [],
   "source": [
    "'''Data loading'''\n",
    "f_names_national = [\n",
    "    '2012 Conso Prod.csv',\n",
    "    '2013 Conso Prod.csv',\n",
    "    '2014 Conso Prod.csv',\n",
    "    '2015 Conso Prod.csv'\n",
    "]\n",
    "\n",
    "datas = []\n",
    "data_news = []\n",
    "for f_name in f_names_national:\n",
    "    data = pd.read_csv('data/'+ f_name, delimiter='\\t', encoding = \"ISO-8859-1\")\n",
    "    pd.set_option('max_columns', 100)\n",
    "    headers = list(data)\n",
    "    data = data[data.Consommation.notnull()]\n",
    "    data = data[data.Date.notnull()]\n",
    "    data['timestamp'] = [str(d) + ' ' + str(t) for d, t in zip(data['Date'].values, data['Heures'].values)]\n",
    "    data['timestamp'] = pd.to_datetime(data['timestamp'], format='%Y-%m-%d %H:%M')\n",
    "    datas.append(data)\n",
    "\n",
    "data_final = pd.concat(datas).reset_index()"
   ]
  },
  {
   "cell_type": "code",
   "execution_count": 125,
   "metadata": {
    "collapsed": false
   },
   "outputs": [],
   "source": [
    "# structure learning part of the algorithm\n",
    "\n",
    "import numpy as np\n",
    "from numpy.random import sample\n",
    "import numpy.linalg as la\n",
    "\n",
    "# can we replace this with a clustering algorithm?\n",
    "\n",
    "def learnStructure(X, L0, eps, H, T, ar0, aw0):\n",
    "    \"\"\"\n",
    "        X is the data to cluster\n",
    "        L0 initial number of clusters\n",
    "        eps threshold\n",
    "        T max iterations\n",
    "        h convergence parameter\n",
    "        ar0, aw0 learning rates\n",
    "        \n",
    "        returns learned centers of data\n",
    "    \"\"\"\n",
    "    wins = np.ones((1,L0))\n",
    "    centers = X[np.random.choice(X.shape[0], L0, replace=False), :]\n",
    "    \n",
    "    h = 0\n",
    "    while h<H :\n",
    "        #print(\"****** h = {} ******\" .format(h))\n",
    "        t = 0\n",
    "        L = len(centers)\n",
    "        while t<T:\n",
    "            # select a random sample\n",
    "            z = X[np.random.choice(X.shape[0], 1), :]\n",
    "            # compute its distance to all centers\n",
    "            distances = np.multiply(wins/np.sum(wins),la.norm(centers - np.ones((L,1)).dot(z), axis = 1))\n",
    "    \n",
    "            # compute min and its rival\n",
    "            w = np.argmin(distances)\n",
    "            r = np.argmin(np.delete(distances,w))\n",
    "\n",
    "            # update centers\n",
    "            centers[w,:] = centers[w,:] + aw0*(1-t/T)*(z - centers[w,:])\n",
    "            centers[r,:] = centers[r,:] - ar0*(1-t/T)*(z - centers[r,:])\n",
    "            wins[0,w] += 1\n",
    "            t += 1\n",
    "\n",
    "\n",
    "        # compute clusters for each sample and the number of samples in each cluster\n",
    "        clusters = np.zeros((1,X.shape[0]))\n",
    "        ratios = np.zeros((1,L))\n",
    "\n",
    "        for i in range(X.shape[0]):\n",
    "            z = X[np.array([i]),:]\n",
    "            distances = np.multiply(wins/np.sum(wins),la.norm(centers - np.ones((L,1)).dot(z), axis = 1))\n",
    "            k = np.argmin(distances)\n",
    "            clusters[0,i] = k\n",
    "            ratios[0,k] += 1\n",
    "\n",
    "        # compute ratios\n",
    "        ratios = ratios / X.shape[0]\n",
    "\n",
    "\n",
    "        # delete clusters with ratios  less than threshold\n",
    "        indexes = np.argwhere( ratios < eps)[:,1]\n",
    "        if len(indexes) >= eps : h += 1\n",
    "        centers = np.delete(centers, indexes, axis = 0)\n",
    "        wins = np.delete(wins, indexes, axis = 1)\n",
    "\n",
    "    return centers\n",
    "    \n",
    "    \n",
    "        \n",
    "        "
   ]
  },
  {
   "cell_type": "code",
   "execution_count": 151,
   "metadata": {
    "collapsed": false
   },
   "outputs": [],
   "source": [
    "# simple test\n",
    "X = 20*np.random.randn(100,2)\n",
    "\n",
    "ar0 = 0.01\n",
    "aw0 = 0.1\n",
    "T = 30\n",
    "eps = 0.1\n",
    "H = 3\n",
    "L0 = 10\n",
    "centers =learnStructure(X, L0, eps, H, T, ar0, aw0)\n",
    "\n"
   ]
  },
  {
   "cell_type": "code",
   "execution_count": 155,
   "metadata": {
    "collapsed": false
   },
   "outputs": [
    {
     "data": {
      "text/plain": [
       "<matplotlib.text.Text at 0x10d833470>"
      ]
     },
     "execution_count": 155,
     "metadata": {},
     "output_type": "execute_result"
    },
    {
     "data": {
      "image/png": "[encoded data removed]",
      "text/plain": [
       "<matplotlib.figure.Figure at 0x10ce18898>"
      ]
     },
     "metadata": {},
     "output_type": "display_data"
    }
   ],
   "source": [
    "plt.scatter(X[:,0],X[:,1])\n",
    "plt.hold()\n",
    "plt.plot(centers[:,0],centers[:,1], 'ro', color = 'red')\n",
    "plt.title('Initial points and learned centers (red)')"
   ]
  },
  {
   "cell_type": "code",
   "execution_count": 137,
   "metadata": {
    "collapsed": false
   },
   "outputs": [
    {
     "data": {
      "text/plain": [
       "array([0])"
      ]
     },
     "execution_count": 137,
     "metadata": {},
     "output_type": "execute_result"
    }
   ],
   "source": [
    "L0 = 2\n",
    "\n",
    "X = np.array([[1,2,3],[1,2,3]])\n",
    "wins = np.ones((1,L0))\n",
    "centers = X[np.random.choice(X.shape[0], L0, replace=False), :]\n",
    "z = X[np.random.choice(X.shape[0], 1), :]\n",
    "distances = la.norm(centers - np.ones((L0,1)).dot(z), axis = 1)\n",
    "distances = np.multiply(wins/np.sum(wins),la.norm(centers - np.ones((L0,1)).dot(z), axis = 1))\n",
    "np.delete(distances,0)\n",
    "distances[0,:] = distances[0,:] +1  \n",
    "distances[distances == 0]\n",
    "np.delete(X, np.argwhere(distances > 0)[:,1], axis = 1)\n",
    "np.random.choice(X.shape[0], 1)\n"
   ]
  },
  {
   "cell_type": "code",
   "execution_count": 479,
   "metadata": {
    "collapsed": false
   },
   "outputs": [],
   "source": [
    "from sklearn.neighbors import NearestNeighbors\n",
    "\n",
    "\n",
    "def gaussian(x, mu, sigma):\n",
    "    return np.exp( -(x-mu)**2 / sigma**2 )\n",
    "\n",
    "\n",
    "class Membership:\n",
    "    def __init__(self, fun, **parameters):\n",
    "        self.fun = fun\n",
    "        self.parameters = parameters\n",
    "           \n",
    "    def apply(self, x):\n",
    "        return self.fun(x, **self.parameters)\n",
    "    \n",
    "    def update(self,*params):\n",
    "        pass\n",
    "    \n",
    "    def setParams(self,**params):\n",
    "        for key in self.parameters:\n",
    "            self.parameters[key] = params[key]\n",
    "\n",
    "    \n",
    "class RBF(Membership):\n",
    "    def __init__(self, sigma = 1, mu =0):\n",
    "        params = dict()\n",
    "        params['sigma'] = sigma\n",
    "        params['mu'] = mu\n",
    "        super(RBF,self).__init__(gaussian, **params)\n",
    "        \n",
    "    def update(self,x,y,yhat,w,Sum,Prod,index,eta):\n",
    "        deltaMu = np.sum(2/self.parameters['sigma']**2 * \n",
    "                         np.multiply(Prod, \n",
    "                                     np.multiply((x[:,index] - self.parameters['mu']),\n",
    "                                                       np.multiply(yhat-y,-yhat + w))))\n",
    "        deltaSigma = np.sum(2/self.parameters['sigma']**3 \n",
    "                            * np.multiply(Prod, \n",
    "                                          np.multiply((x[:,index] - self.parameters['mu'])**2,\n",
    "                                                      np.multiply(yhat-y,-yhat + w))))\n",
    "        self.parameters['mu'] = self.parameters['mu'] - eta * deltaMu\n",
    "        self.parameters['sigma'] = self.parameters['sigma'] - eta * deltaSigma\n",
    "\n",
    "class Rule:\n",
    "    def __init__(self, Membership, ninputs):\n",
    "        self.members = []\n",
    "        self.ninputs = ninputs\n",
    "        self.mmebership = Membership\n",
    "        for i in range(ninputs):\n",
    "            m = Membership()\n",
    "            self.members.append(m)\n",
    "            \n",
    "    def apply(self, x):\n",
    "        result = np.zeros((x.shape[0],1))\n",
    "        for i in range(x.shape[0]):\n",
    "            r = 1\n",
    "            for j in range(self.ninputs):\n",
    "                r *= self.members[j].apply(x[i,j])\n",
    "            result[i,0] = r\n",
    "        return result\n",
    "    \n",
    "    def update(self,*params):\n",
    "        pass\n",
    "    \n",
    "    \n",
    "    def setParams(self,paramsList):\n",
    "        for i in range(self.ninputs):\n",
    "            self.members[i].setParams(**(paramsList[i]))\n",
    "            \n",
    "            \n",
    "class RBFRule(Rule):\n",
    "    def __init__(self, ninputs):\n",
    "        super(RBFRule, self).__init__(RBF,ninputs)\n",
    "        \n",
    "    def update(self,x,y,yhat,w,Sum,eta):\n",
    "        Prod = self.apply(x)\n",
    "        for i in range(self.ninputs):\n",
    "            self.members[i].update(x,y,yhat,w,Sum,Prod,i,eta)\n",
    "            \n",
    "    \n",
    "class FuzzyLayer:\n",
    "    def __init__(self, Membership, ninputs, nrules):\n",
    "        self.rules = []\n",
    "        self.total = 1\n",
    "        self.nrules = nrules\n",
    "        self.ninputs = ninputs\n",
    "        for i in range(self.nrules):\n",
    "            self.rules.append(Rule(Membership, self.ninputs))\n",
    "\n",
    "    def apply(self, x):\n",
    "        result = np.zeros((x.shape[0],self.nrules))\n",
    "        self.total = np.zeros((x.shape[0],1))\n",
    "        for i in range(self.nrules):\n",
    "            r = self.rules[i].apply(x) \n",
    "            result[:,i] = r[:,0]\n",
    "            self.total += r\n",
    "        return np.divide(result, self.total.dot(np.ones((1,self.nrules))))\n",
    "    \n",
    "    def update(self,*params):\n",
    "        pass\n",
    "    \n",
    "        \n",
    "                \n",
    "class RBFFuzzyLayer(FuzzyLayer):\n",
    "    def __init__(self, ninputs, nrules):\n",
    "        super(RBFFuzzyLayer, self).__init__(RBF, ninputs, nrules)\n",
    "        \n",
    "        \n",
    "    def update(self,x,y,yhat,w,eta):\n",
    "        r = self.apply(x)\n",
    "        Sum = self.total\n",
    "        for i in range(self.nrules):\n",
    "            self.rules[i].update(self,x,y,yhat,w[i],Sum,eta)\n",
    "            \n",
    "            \n",
    "class NeuralNetwork:\n",
    "    def __init__(self, ninputs):\n",
    "        self.ninputs = ninputs\n",
    "        self.weights = np.zeros((self.ninputs,1))\n",
    "        \n",
    "    def apply(self,x):\n",
    "        return np.sum(x.dot(self.weights), 1)\n",
    "    \n",
    "    def update(self,x,y,yhat,eta):\n",
    "        n,m = self.weights.shape\n",
    "        yhat = yhat.reshape(y.shape)\n",
    "        delta = eta*np.sum(self.weights.dot((yhat-y).T),1)\n",
    "        self.weights =  self.weights - eta*np.sum(self.weights.dot((yhat-y).T),1).reshape(n,m)\n",
    "        \n",
    "    def setParams(self, weights):\n",
    "        self.weights = weights\n",
    "        \n",
    "        \n",
    "\n",
    "class SOFNN: \n",
    "    def __init__(self, ninitRules=10, eps=0.1, iterations=2, T=30, rrate=0.01, wrate=0.1, overlap =1.5 ):\n",
    "        self.fuzzyLayer = None\n",
    "        self.neuralNetwork = None\n",
    "        self.ninitRules = ninitRules\n",
    "        self.eps = eps\n",
    "        self.iterations = iterations\n",
    "        self.T = T\n",
    "        self.rrate = rrate\n",
    "        self.wrate = wrate\n",
    "        self.centers = None\n",
    "        self.overlap = overlap\n",
    "        \n",
    "\n",
    "    def fit(self,X,Y):\n",
    "        D = np.concatenate((X,Y),1)\n",
    "        self.centers = learnStructure(D, self.ninitRules, self.eps, self.iterations, self.T, self.rrate, self.wrate)\n",
    "        params = self.centers[:,0:-1]\n",
    "        weights = self.centers[:,-1:]\n",
    "        nbrs = NearestNeighbors(n_neighbors=2, algorithm='ball_tree').fit(params)\n",
    "        nrules,ninputsp1 = self.centers.shape\n",
    "        ninputs = ninputsp1 -1\n",
    "        self.fuzzyLayer = RBFFuzzyLayer(ninputs,nrules)\n",
    "        self.neuralNetwork = NeuralNetwork(nrules)\n",
    "        \n",
    "        self.neuralNetwork.setParams(weights)\n",
    "        \n",
    "        for i in range(nrules):\n",
    "            mus = params[i,:]\n",
    "            sigmas = np.abs(params[i,:]-params[nbrs.kneighbors(params[i,:])[1][:,1],:]) / self.overlap\n",
    "            sigmas = sigmas.flatten()\n",
    "            d = [{'mu':mus[k],'sigma':sigmas[k]} for k in range(ninputs)]\n",
    "            (self.fuzzyLayer.rules[i]).setParams(d)\n",
    "            \n",
    "    def apply(self, X):\n",
    "        temp = self.fuzzyLayer.apply(X)\n",
    "        return self.neuralNetwork.apply(temp)\n",
    "            \n",
    "            \n",
    "    def train(self, X, Y, batchSize = 1, epochs = 1, eta=0.1):\n",
    "        for _ in range(epochs):\n",
    "            for _ in range(int(X.shape[0]/batchSize)):\n",
    "                indexes = np.random.choice(X.shape[0], batchSize)\n",
    "                x = X[indexes]\n",
    "                y = Y[indexes]\n",
    "                yhat = self.apply(x)\n",
    "                self.neuralNetwork.update(self.fuzzyLayer.apply(x),y,yhat,eta)\n",
    "                self.fuzzyLayer.update(x,y,yhat,self.neuralNetwork.weights,eta)\n",
    "                \n",
    "    def predict(self, X):\n",
    "        return self.apply(X)\n",
    "        \n",
    "        \n",
    "\n",
    "        \n"
   ]
  },
  {
   "cell_type": "code",
   "execution_count": 400,
   "metadata": {
    "collapsed": false
   },
   "outputs": [
    {
     "name": "stdout",
     "output_type": "stream",
     "text": [
      "[4]\n",
      "[[ 0.1  0.1  0.1  0.1  0.1  0.1  0.1  0.1  0.1  0.1]\n",
      " [ 0.1  0.1  0.1  0.1  0.1  0.1  0.1  0.1  0.1  0.1]\n",
      " [ 0.1  0.1  0.1  0.1  0.1  0.1  0.1  0.1  0.1  0.1]\n",
      " [ 0.1  0.1  0.1  0.1  0.1  0.1  0.1  0.1  0.1  0.1]\n",
      " [ 0.1  0.1  0.1  0.1  0.1  0.1  0.1  0.1  0.1  0.1]\n",
      " [ 0.1  0.1  0.1  0.1  0.1  0.1  0.1  0.1  0.1  0.1]\n",
      " [ 0.1  0.1  0.1  0.1  0.1  0.1  0.1  0.1  0.1  0.1]\n",
      " [ 0.1  0.1  0.1  0.1  0.1  0.1  0.1  0.1  0.1  0.1]\n",
      " [ 0.1  0.1  0.1  0.1  0.1  0.1  0.1  0.1  0.1  0.1]\n",
      " [ 0.1  0.1  0.1  0.1  0.1  0.1  0.1  0.1  0.1  0.1]]\n",
      "[ 0.  0.  0.  0.  0.  0.  0.  0.  0.  0.]\n",
      "(10, 1)\n",
      "(10, 1)\n",
      "(10, 1)\n",
      "(10,)\n"
     ]
    }
   ],
   "source": [
    "# tests\n",
    "\n",
    "a = np.array([[4]])\n",
    "print(a[:,0])\n",
    "\n",
    "m = RBF(sigma = 1, mu =0)\n",
    "m.apply(0)\n",
    "m.update(np.array([[4]]),np.array([[4]]),np.array([[4]]),4,np.array([[4]]),np.array([[4]]),0,0.1)\n",
    "\n",
    "r = RBFRule(3)\n",
    "\n",
    "x =  np.random.randn(10,3)\n",
    "y = np.random.randn(10,1)\n",
    "yhat = np.random.randn(10,1)\n",
    "Sum = np.random.randn(10,1)\n",
    "r.apply(x)\n",
    "r.update(x,y,yhat,3,Sum,0.1)\n",
    "\n",
    "\n",
    "\n",
    "fr = RBFFuzzyLayer(3,10)\n",
    "a = fr.apply(x)\n",
    "fr.update(x,y,yhat,y,0.1)\n",
    "print(a)\n",
    "\n",
    "\n",
    "\n",
    "nn = NeuralNetwork(10)\n",
    "\n",
    "b  = nn.apply(fr.apply(x))\n",
    "print(b)\n",
    "\n",
    "nn.update(fr.apply(x), y, yhat, 0.1)\n"
   ]
  },
  {
   "cell_type": "code",
   "execution_count": 553,
   "metadata": {
    "collapsed": false
   },
   "outputs": [
    {
     "name": "stderr",
     "output_type": "stream",
     "text": [
      "/Library/Frameworks/Python.framework/Versions/3.4/lib/python3.4/site-packages/sklearn/utils/validation.py:395: DeprecationWarning: Passing 1d arrays as data is deprecated in 0.17 and will raise ValueError in 0.19. Reshape your data either using X.reshape(-1, 1) if your data has a single feature or X.reshape(1, -1) if it contains a single sample.\n",
      "  DeprecationWarning)\n",
      "/Library/Frameworks/Python.framework/Versions/3.4/lib/python3.4/site-packages/sklearn/utils/validation.py:395: DeprecationWarning: Passing 1d arrays as data is deprecated in 0.17 and will raise ValueError in 0.19. Reshape your data either using X.reshape(-1, 1) if your data has a single feature or X.reshape(1, -1) if it contains a single sample.\n",
      "  DeprecationWarning)\n",
      "/Library/Frameworks/Python.framework/Versions/3.4/lib/python3.4/site-packages/sklearn/utils/validation.py:395: DeprecationWarning: Passing 1d arrays as data is deprecated in 0.17 and will raise ValueError in 0.19. Reshape your data either using X.reshape(-1, 1) if your data has a single feature or X.reshape(1, -1) if it contains a single sample.\n",
      "  DeprecationWarning)\n",
      "/Library/Frameworks/Python.framework/Versions/3.4/lib/python3.4/site-packages/sklearn/utils/validation.py:395: DeprecationWarning: Passing 1d arrays as data is deprecated in 0.17 and will raise ValueError in 0.19. Reshape your data either using X.reshape(-1, 1) if your data has a single feature or X.reshape(1, -1) if it contains a single sample.\n",
      "  DeprecationWarning)\n",
      "/Library/Frameworks/Python.framework/Versions/3.4/lib/python3.4/site-packages/sklearn/utils/validation.py:395: DeprecationWarning: Passing 1d arrays as data is deprecated in 0.17 and will raise ValueError in 0.19. Reshape your data either using X.reshape(-1, 1) if your data has a single feature or X.reshape(1, -1) if it contains a single sample.\n",
      "  DeprecationWarning)\n",
      "/Library/Frameworks/Python.framework/Versions/3.4/lib/python3.4/site-packages/sklearn/utils/validation.py:395: DeprecationWarning: Passing 1d arrays as data is deprecated in 0.17 and will raise ValueError in 0.19. Reshape your data either using X.reshape(-1, 1) if your data has a single feature or X.reshape(1, -1) if it contains a single sample.\n",
      "  DeprecationWarning)\n",
      "/Library/Frameworks/Python.framework/Versions/3.4/lib/python3.4/site-packages/sklearn/utils/validation.py:395: DeprecationWarning: Passing 1d arrays as data is deprecated in 0.17 and will raise ValueError in 0.19. Reshape your data either using X.reshape(-1, 1) if your data has a single feature or X.reshape(1, -1) if it contains a single sample.\n",
      "  DeprecationWarning)\n",
      "/Library/Frameworks/Python.framework/Versions/3.4/lib/python3.4/site-packages/sklearn/utils/validation.py:395: DeprecationWarning: Passing 1d arrays as data is deprecated in 0.17 and will raise ValueError in 0.19. Reshape your data either using X.reshape(-1, 1) if your data has a single feature or X.reshape(1, -1) if it contains a single sample.\n",
      "  DeprecationWarning)\n",
      "/Library/Frameworks/Python.framework/Versions/3.4/lib/python3.4/site-packages/sklearn/utils/validation.py:395: DeprecationWarning: Passing 1d arrays as data is deprecated in 0.17 and will raise ValueError in 0.19. Reshape your data either using X.reshape(-1, 1) if your data has a single feature or X.reshape(1, -1) if it contains a single sample.\n",
      "  DeprecationWarning)\n",
      "/Library/Frameworks/Python.framework/Versions/3.4/lib/python3.4/site-packages/sklearn/utils/validation.py:395: DeprecationWarning: Passing 1d arrays as data is deprecated in 0.17 and will raise ValueError in 0.19. Reshape your data either using X.reshape(-1, 1) if your data has a single feature or X.reshape(1, -1) if it contains a single sample.\n",
      "  DeprecationWarning)\n",
      "/Library/Frameworks/Python.framework/Versions/3.4/lib/python3.4/site-packages/sklearn/utils/validation.py:395: DeprecationWarning: Passing 1d arrays as data is deprecated in 0.17 and will raise ValueError in 0.19. Reshape your data either using X.reshape(-1, 1) if your data has a single feature or X.reshape(1, -1) if it contains a single sample.\n",
      "  DeprecationWarning)\n",
      "/Library/Frameworks/Python.framework/Versions/3.4/lib/python3.4/site-packages/sklearn/utils/validation.py:395: DeprecationWarning: Passing 1d arrays as data is deprecated in 0.17 and will raise ValueError in 0.19. Reshape your data either using X.reshape(-1, 1) if your data has a single feature or X.reshape(1, -1) if it contains a single sample.\n",
      "  DeprecationWarning)\n",
      "/Library/Frameworks/Python.framework/Versions/3.4/lib/python3.4/site-packages/sklearn/utils/validation.py:395: DeprecationWarning: Passing 1d arrays as data is deprecated in 0.17 and will raise ValueError in 0.19. Reshape your data either using X.reshape(-1, 1) if your data has a single feature or X.reshape(1, -1) if it contains a single sample.\n",
      "  DeprecationWarning)\n",
      "/Library/Frameworks/Python.framework/Versions/3.4/lib/python3.4/site-packages/sklearn/utils/validation.py:395: DeprecationWarning: Passing 1d arrays as data is deprecated in 0.17 and will raise ValueError in 0.19. Reshape your data either using X.reshape(-1, 1) if your data has a single feature or X.reshape(1, -1) if it contains a single sample.\n",
      "  DeprecationWarning)\n",
      "/Library/Frameworks/Python.framework/Versions/3.4/lib/python3.4/site-packages/sklearn/utils/validation.py:395: DeprecationWarning: Passing 1d arrays as data is deprecated in 0.17 and will raise ValueError in 0.19. Reshape your data either using X.reshape(-1, 1) if your data has a single feature or X.reshape(1, -1) if it contains a single sample.\n",
      "  DeprecationWarning)\n",
      "/Library/Frameworks/Python.framework/Versions/3.4/lib/python3.4/site-packages/sklearn/utils/validation.py:395: DeprecationWarning: Passing 1d arrays as data is deprecated in 0.17 and will raise ValueError in 0.19. Reshape your data either using X.reshape(-1, 1) if your data has a single feature or X.reshape(1, -1) if it contains a single sample.\n",
      "  DeprecationWarning)\n",
      "/Library/Frameworks/Python.framework/Versions/3.4/lib/python3.4/site-packages/sklearn/utils/validation.py:395: DeprecationWarning: Passing 1d arrays as data is deprecated in 0.17 and will raise ValueError in 0.19. Reshape your data either using X.reshape(-1, 1) if your data has a single feature or X.reshape(1, -1) if it contains a single sample.\n",
      "  DeprecationWarning)\n",
      "/Library/Frameworks/Python.framework/Versions/3.4/lib/python3.4/site-packages/sklearn/utils/validation.py:395: DeprecationWarning: Passing 1d arrays as data is deprecated in 0.17 and will raise ValueError in 0.19. Reshape your data either using X.reshape(-1, 1) if your data has a single feature or X.reshape(1, -1) if it contains a single sample.\n",
      "  DeprecationWarning)\n"
     ]
    }
   ],
   "source": [
    "#D = np.random.randn(100,1)\n",
    "\n",
    "\n",
    "#X = D[:,0:-1]\n",
    "#Y = D[:,-1:]\n",
    "\n",
    "X = np.array([range(100)]).T\n",
    "Y = np.sin(1/12*3.14*X)\n",
    "\n",
    "X = np.array([[float(X[i]), float(X[i+1]), float(X[i+2])] for i in range(X.shape[0]-3)])\n",
    "Y = np.array([[float(Y[i+3]) for i in range(X.shape[0])]]).T\n",
    "\n",
    "\n",
    "sofnn = SOFNN(ninitRules = 20, eps = 0.0001, rrate = 0.01, wrate = 0.2)\n",
    "centers = sofnn.fit(X,Y)\n",
    "sofnn.train(X,Y, batchSize = 2, epochs = 9, eta = 0.01)\n",
    "yhat = sofnn.predict(X)"
   ]
  },
  {
   "cell_type": "code",
   "execution_count": 556,
   "metadata": {
    "collapsed": false
   },
   "outputs": [
    {
     "data": {
      "text/plain": [
       "[<matplotlib.lines.Line2D at 0x11dfb9dd8>,\n",
       " <matplotlib.lines.Line2D at 0x11dfb9f98>]"
      ]
     },
     "execution_count": 556,
     "metadata": {},
     "output_type": "execute_result"
    },
    {
     "data": {
      "image/png": "[encoded data removed]",
      "text/plain": [
       "<matplotlib.figure.Figure at 0x11dc09940>"
      ]
     },
     "metadata": {},
     "output_type": "display_data"
    }
   ],
   "source": [
    "plt.plot(yhat,'blue',Y,'red')"
   ]
  },
  {
   "cell_type": "code",
   "execution_count": 496,
   "metadata": {
    "collapsed": false
   },
   "outputs": [
    {
     "name": "stderr",
     "output_type": "stream",
     "text": [
      "/Library/Frameworks/Python.framework/Versions/3.4/lib/python3.4/site-packages/sklearn/utils/validation.py:395: DeprecationWarning: Passing 1d arrays as data is deprecated in 0.17 and will raise ValueError in 0.19. Reshape your data either using X.reshape(-1, 1) if your data has a single feature or X.reshape(1, -1) if it contains a single sample.\n",
      "  DeprecationWarning)\n",
      "/Library/Frameworks/Python.framework/Versions/3.4/lib/python3.4/site-packages/sklearn/utils/validation.py:395: DeprecationWarning: Passing 1d arrays as data is deprecated in 0.17 and will raise ValueError in 0.19. Reshape your data either using X.reshape(-1, 1) if your data has a single feature or X.reshape(1, -1) if it contains a single sample.\n",
      "  DeprecationWarning)\n",
      "/Library/Frameworks/Python.framework/Versions/3.4/lib/python3.4/site-packages/sklearn/utils/validation.py:395: DeprecationWarning: Passing 1d arrays as data is deprecated in 0.17 and will raise ValueError in 0.19. Reshape your data either using X.reshape(-1, 1) if your data has a single feature or X.reshape(1, -1) if it contains a single sample.\n",
      "  DeprecationWarning)\n",
      "/Library/Frameworks/Python.framework/Versions/3.4/lib/python3.4/site-packages/sklearn/utils/validation.py:395: DeprecationWarning: Passing 1d arrays as data is deprecated in 0.17 and will raise ValueError in 0.19. Reshape your data either using X.reshape(-1, 1) if your data has a single feature or X.reshape(1, -1) if it contains a single sample.\n",
      "  DeprecationWarning)\n",
      "/Library/Frameworks/Python.framework/Versions/3.4/lib/python3.4/site-packages/sklearn/utils/validation.py:395: DeprecationWarning: Passing 1d arrays as data is deprecated in 0.17 and will raise ValueError in 0.19. Reshape your data either using X.reshape(-1, 1) if your data has a single feature or X.reshape(1, -1) if it contains a single sample.\n",
      "  DeprecationWarning)\n",
      "/Library/Frameworks/Python.framework/Versions/3.4/lib/python3.4/site-packages/sklearn/utils/validation.py:395: DeprecationWarning: Passing 1d arrays as data is deprecated in 0.17 and will raise ValueError in 0.19. Reshape your data either using X.reshape(-1, 1) if your data has a single feature or X.reshape(1, -1) if it contains a single sample.\n",
      "  DeprecationWarning)\n",
      "/Library/Frameworks/Python.framework/Versions/3.4/lib/python3.4/site-packages/sklearn/utils/validation.py:395: DeprecationWarning: Passing 1d arrays as data is deprecated in 0.17 and will raise ValueError in 0.19. Reshape your data either using X.reshape(-1, 1) if your data has a single feature or X.reshape(1, -1) if it contains a single sample.\n",
      "  DeprecationWarning)\n",
      "/Library/Frameworks/Python.framework/Versions/3.4/lib/python3.4/site-packages/sklearn/utils/validation.py:395: DeprecationWarning: Passing 1d arrays as data is deprecated in 0.17 and will raise ValueError in 0.19. Reshape your data either using X.reshape(-1, 1) if your data has a single feature or X.reshape(1, -1) if it contains a single sample.\n",
      "  DeprecationWarning)\n",
      "/Library/Frameworks/Python.framework/Versions/3.4/lib/python3.4/site-packages/sklearn/utils/validation.py:395: DeprecationWarning: Passing 1d arrays as data is deprecated in 0.17 and will raise ValueError in 0.19. Reshape your data either using X.reshape(-1, 1) if your data has a single feature or X.reshape(1, -1) if it contains a single sample.\n",
      "  DeprecationWarning)\n",
      "/Library/Frameworks/Python.framework/Versions/3.4/lib/python3.4/site-packages/sklearn/utils/validation.py:395: DeprecationWarning: Passing 1d arrays as data is deprecated in 0.17 and will raise ValueError in 0.19. Reshape your data either using X.reshape(-1, 1) if your data has a single feature or X.reshape(1, -1) if it contains a single sample.\n",
      "  DeprecationWarning)\n",
      "/Library/Frameworks/Python.framework/Versions/3.4/lib/python3.4/site-packages/sklearn/utils/validation.py:395: DeprecationWarning: Passing 1d arrays as data is deprecated in 0.17 and will raise ValueError in 0.19. Reshape your data either using X.reshape(-1, 1) if your data has a single feature or X.reshape(1, -1) if it contains a single sample.\n",
      "  DeprecationWarning)\n",
      "/Library/Frameworks/Python.framework/Versions/3.4/lib/python3.4/site-packages/sklearn/utils/validation.py:395: DeprecationWarning: Passing 1d arrays as data is deprecated in 0.17 and will raise ValueError in 0.19. Reshape your data either using X.reshape(-1, 1) if your data has a single feature or X.reshape(1, -1) if it contains a single sample.\n",
      "  DeprecationWarning)\n",
      "/Library/Frameworks/Python.framework/Versions/3.4/lib/python3.4/site-packages/sklearn/utils/validation.py:395: DeprecationWarning: Passing 1d arrays as data is deprecated in 0.17 and will raise ValueError in 0.19. Reshape your data either using X.reshape(-1, 1) if your data has a single feature or X.reshape(1, -1) if it contains a single sample.\n",
      "  DeprecationWarning)\n",
      "/Library/Frameworks/Python.framework/Versions/3.4/lib/python3.4/site-packages/sklearn/utils/validation.py:395: DeprecationWarning: Passing 1d arrays as data is deprecated in 0.17 and will raise ValueError in 0.19. Reshape your data either using X.reshape(-1, 1) if your data has a single feature or X.reshape(1, -1) if it contains a single sample.\n",
      "  DeprecationWarning)\n",
      "/Library/Frameworks/Python.framework/Versions/3.4/lib/python3.4/site-packages/sklearn/utils/validation.py:395: DeprecationWarning: Passing 1d arrays as data is deprecated in 0.17 and will raise ValueError in 0.19. Reshape your data either using X.reshape(-1, 1) if your data has a single feature or X.reshape(1, -1) if it contains a single sample.\n",
      "  DeprecationWarning)\n",
      "/Library/Frameworks/Python.framework/Versions/3.4/lib/python3.4/site-packages/sklearn/utils/validation.py:395: DeprecationWarning: Passing 1d arrays as data is deprecated in 0.17 and will raise ValueError in 0.19. Reshape your data either using X.reshape(-1, 1) if your data has a single feature or X.reshape(1, -1) if it contains a single sample.\n",
      "  DeprecationWarning)\n",
      "/Library/Frameworks/Python.framework/Versions/3.4/lib/python3.4/site-packages/sklearn/utils/validation.py:395: DeprecationWarning: Passing 1d arrays as data is deprecated in 0.17 and will raise ValueError in 0.19. Reshape your data either using X.reshape(-1, 1) if your data has a single feature or X.reshape(1, -1) if it contains a single sample.\n",
      "  DeprecationWarning)\n",
      "/Library/Frameworks/Python.framework/Versions/3.4/lib/python3.4/site-packages/sklearn/utils/validation.py:395: DeprecationWarning: Passing 1d arrays as data is deprecated in 0.17 and will raise ValueError in 0.19. Reshape your data either using X.reshape(-1, 1) if your data has a single feature or X.reshape(1, -1) if it contains a single sample.\n",
      "  DeprecationWarning)\n"
     ]
    }
   ],
   "source": [
    "# funciton approximation\n",
    "X = 5/2 * (np.random.rand(100,3)+1) + 1\n",
    "Y = np.array([[1+np.exp(0.5*np.log(X[i,0]))+np.exp(-1*np.log(X[i,1]))+np.exp(-1*np.log(X[i,2]))] for i in range(X.shape[0])])\n",
    "\n",
    "\n",
    "sofnn = SOFNN(ninitRules = 20, eps = 0.001, rrate = 0.01, wrate = 0.1)\n",
    "centers = sofnn.fit(X,Y)\n",
    "\n",
    "sofnn.train(X,Y, batchSize = 5, epochs = 10, eta = 0.01)\n",
    "yhat = sofnn.predict(X)\n"
   ]
  },
  {
   "cell_type": "code",
   "execution_count": 558,
   "metadata": {
    "collapsed": false
   },
   "outputs": [
    {
     "data": {
      "text/plain": [
       "[<matplotlib.lines.Line2D at 0x11ec00fd0>,\n",
       " <matplotlib.lines.Line2D at 0x11ec062b0>]"
      ]
     },
     "execution_count": 558,
     "metadata": {},
     "output_type": "execute_result"
    },
    {
     "data": {
      "image/png": "[encoded data removed]",
      "text/plain": [
       "<matplotlib.figure.Figure at 0x11eafc0b8>"
      ]
     },
     "metadata": {},
     "output_type": "display_data"
    }
   ],
   "source": [
    "plt.plot(yhat,'blue',Y,'red')"
   ]
  }
 ],
 "metadata": {
  "kernelspec": {
   "display_name": "Python 3",
   "language": "python",
   "name": "python3"
  },
  "language_info": {
   "codemirror_mode": {
    "name": "ipython",
    "version": 3
   },
   "file_extension": ".py",
   "mimetype": "text/x-python",
   "name": "python",
   "nbconvert_exporter": "python",
   "pygments_lexer": "ipython3",
   "version": "3.4.1"
  }
 },
 "nbformat": 4,
 "nbformat_minor": 1
}
